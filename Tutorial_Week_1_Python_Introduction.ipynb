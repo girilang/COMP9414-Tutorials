{
  "cells": [
    {
      "attachments": {},
      "cell_type": "markdown",
      "metadata": {
        "colab_type": "text",
        "id": "view-in-github"
      },
      "source": [
        "<a href=\"https://colab.research.google.com/github/girilang/COMP9414-Tutorials/blob/main/Tutorial_Week_1_Python_Introduction.ipynb\" target=\"_parent\"><img src=\"https://colab.research.google.com/assets/colab-badge.svg\" alt=\"Open In Colab\"/></a>"
      ]
    },
    {
      "attachments": {},
      "cell_type": "markdown",
      "metadata": {
        "id": "m8K_lmOubHyj"
      },
      "source": [
        "#Artificial Intelligence - COMP9414 23T2\n",
        "###Tutorial week 1 - Python introduction\n",
        "\n",
        "@Author: __Maryam Hashemi + Chatgpt__\n",
        "\n",
        "@Reviewed by: __Francisco Cruz__"
      ]
    },
    {
      "attachments": {},
      "cell_type": "markdown",
      "metadata": {
        "id": "DYh3bkMY-Fkj"
      },
      "source": [
        "##Python Introduction\n",
        "\n",
        "Python was conceived in the late 1980s by Guido van Rossum at Centrum Wiskunde \\& Informatica (CWI) in the Netherlands.\n",
        "During the past decade, Python turned into a popular programming language known for its simplicity and readability.\n",
        "It is widely used in various domains, including artificial intelligence (AI).\n",
        "Python's versatility and extensive libraries make it an excellent choice for AI development.\n",
        "\n",
        "__What can Python do?__\n",
        "\n",
        "*   Python can be used on a server to create web applications.\n",
        "*   Python can be used alongside software to create workflows.\n",
        "*   Python can connect to database systems. It can also read and modify files.\n",
        "*   Python can be used to handle big data and perform complex mathematics.\n",
        "*   Python can be used for algorithm development, optimization, and encoding.\n",
        "\n",
        "__Why Python?__\n",
        "\n",
        "*   Python works on different platforms (Windows, Mac, Linux, Raspberry Pi, etc) (flexibility).\n",
        "*   Python has a simple syntax similar to the English language (readability).\n",
        "*   Python has a syntax that allows developers to write programs with fewer lines than other programming languages.\n",
        "*   Python runs on an interpreter system, meaning that code can be executed as soon as it is written.\n",
        "*   Python can be treated in a procedural way, an object-oriented way or a functional way.\n",
        "\n",
        "__Python syntax compared to other programming languages:__\n",
        "\n",
        "Python was designed for readability and has some similarities to the English language with influence from mathematics.\n",
        "For example, Python uses new lines to complete a command, as opposed to other programming languages which often use semicolons or parentheses.\n",
        "Python relies on indentation, using whitespace, to define scope; such as the scope of loops, functions and classes. Other programming languages often use curly brackets for this purpose.\n",
        "__Remember whitespaces means something in your code, before running your code, always remove redundant spaces.__\n",
        "\n",
        "During this tutorial, we will mention and use examples of the basic concepts in programming such as loops, functions, and classes.\n",
        "After that, we will introduce two key libraries in Python (not only for AI), Numpy and Matplotlib.     \n"
      ]
    },
    {
      "attachments": {},
      "cell_type": "markdown",
      "metadata": {
        "id": "GWeh7eSA_YFs"
      },
      "source": [
        "##Setup\n",
        "\n",
        "The most recent major version of Python is Python 3, we will use this version. Python 2, although is not up-to-date, is still quite popular. However, Python 2 might not be compatible with other libraries that we will use in the future.\n",
        "\n",
        "__Python__\n",
        "\n",
        "To do this tutorial and your future ones, you need to run Python.\n",
        "There are different alternatives, if you prefer to install Python on your laptop, we recommend Anaconda.\n",
        "However, if you have previous experience with Python and prefer something else, it should not be a problem.\n",
        "Anaconda is an open-source Python distribution that includes a full programming environment, therefore, you can code directly on your terminal or use platforms such as Spyder or Jupyter.\n",
        "Depending on the operative system you have, you should follow the installation directions:\n",
        "\n",
        "*   [Windows](https://docs.anaconda.com/free/anaconda/install/windows/)\n",
        "*   [MacOS](https://docs.anaconda.com/free/anaconda/install/mac-os/)\n",
        "*   [Linux](https://docs.anaconda.com/free/anaconda/install/linux/)\n",
        "\n",
        "\n",
        "Alternatively, Google Colab allows writing and executing Python code through the browser. What is Google Colab? [See this link](https://research.google.com/colaboratory/faq.html).\n",
        "\n",
        "__NumPy__\n",
        "\n",
        "NumPy is a powerful library for numerical computing in Python.\n",
        "It provides support for large, multi-dimensional arrays and a collection of functions to operate on these arrays efficiently.\n",
        "\n",
        "To use NumPy on your laptop, first you need to install it (if it is not pre-installed).\n",
        "How to install NumPy? [See this link](https://numpy.org/install/).\n",
        "Both Anaconda and Google Colab have NumPy preinstalled, therefore you need simply import it in your code before use.\n",
        "\n",
        "__Matplotlib__\n",
        "\n",
        "Matplotlib is a widely-used data visualization library in Python.\n",
        "It allows us to create various types of plots, such as line plots, bar plots, and scatter plots.\n",
        "During our tutorials, you will see how this library helps us to show the results, and track the performance of our AI algorithms.\n",
        "\n",
        "To use Matplotlib on your laptop, first you need to install it (if it is not pre-installed).\n",
        "How to install Matplotlib? [See this link](https://matplotlib.org/stable/users/installing/index.html).\n",
        "Both Anaconda and Google Colab have Matplotlib preinstalled, therefore you need simply import it in your code before use.\n"
      ]
    },
    {
      "attachments": {},
      "cell_type": "markdown",
      "metadata": {
        "id": "DPZXHJ-Cg9X1"
      },
      "source": [
        "#Basics of Python\n",
        "##Loops\n",
        "\n",
        "__For loop:__ Write a Python program that finds all the prime numbers between 1 and 1000 (inclusive) and stores them in a list."
      ]
    },
    {
      "cell_type": "code",
      "execution_count": 1,
      "metadata": {
        "colab": {
          "base_uri": "https://localhost:8080/"
        },
        "id": "LXZ2_OPJeICI",
        "outputId": "57b08b37-98cb-4cce-fe5d-9c1912d05aa8"
      },
      "outputs": [
        {
          "name": "stdout",
          "output_type": "stream",
          "text": [
            "[2, 3, 5, 7, 11, 13, 17, 19, 23, 29, 31, 37, 41, 43, 47, 53, 59, 61, 67, 71, 73, 79, 83, 89, 97, 101, 103, 107, 109, 113, 127, 131, 137, 139, 149, 151, 157, 163, 167, 173, 179, 181, 191, 193, 197, 199, 211, 223, 227, 229, 233, 239, 241, 251, 257, 263, 269, 271, 277, 281, 283, 293, 307, 311, 313, 317, 331, 337, 347, 349, 353, 359, 367, 373, 379, 383, 389, 397, 401, 409, 419, 421, 431, 433, 439, 443, 449, 457, 461, 463, 467, 479, 487, 491, 499, 503, 509, 521, 523, 541, 547, 557, 563, 569, 571, 577, 587, 593, 599, 601, 607, 613, 617, 619, 631, 641, 643, 647, 653, 659, 661, 673, 677, 683, 691, 701, 709, 719, 727, 733, 739, 743, 751, 757, 761, 769, 773, 787, 797, 809, 811, 821, 823, 827, 829, 839, 853, 857, 859, 863, 877, 881, 883, 887, 907, 911, 919, 929, 937, 941, 947, 953, 967, 971, 977, 983, 991, 997]\n"
          ]
        }
      ],
      "source": [
        "prime_numbers = []\n",
        "for num in range(2, 1001):\n",
        "    is_prime = True\n",
        "    #check if num is divisible by any number other than 1 and itself\n",
        "    #num**0.5 calculates the square root of a number\n",
        "    for i in range(2, int(num**0.5) + 1):\n",
        "        if num % i == 0:\n",
        "            is_prime = False\n",
        "            break\n",
        "    if is_prime:\n",
        "        prime_numbers.append(num)\n",
        "print(prime_numbers)\n",
        "\n",
        "#can you think about any other ways to do it?"
      ]
    },
    {
      "attachments": {},
      "cell_type": "markdown",
      "metadata": {
        "id": "zzUM8W1FGnv8"
      },
      "source": [
        "__While loop:__ Write a Python program that counts the number of digits of a natural number $n$, i.e., $n$ is a positive, integer number."
      ]
    },
    {
      "cell_type": "code",
      "execution_count": 2,
      "metadata": {
        "colab": {
          "base_uri": "https://localhost:8080/"
        },
        "id": "SyzhnPCgGrb2",
        "outputId": "25e2781d-0dbb-4a84-bfda-a6cb0703733b"
      },
      "outputs": [
        {
          "name": "stdout",
          "output_type": "stream",
          "text": [
            "4\n"
          ]
        }
      ],
      "source": [
        "n = 1874\n",
        "counter = 0\n",
        "remainder = n\n",
        "while remainder > 0:\n",
        "    remainder = remainder//10\n",
        "    counter += 1\n",
        "\n",
        "print(counter)\n"
      ]
    },
    {
      "attachments": {},
      "cell_type": "markdown",
      "metadata": {
        "id": "bO-OxwI1oNlz"
      },
      "source": [
        "##If - else statement\n",
        "\n",
        "__Exercise:__ Write a Python program that takes a user's age as input and determines the ticket price for a theme park based on the following criteria:\n",
        "\n",
        "* Children aged 3 and below enter for free.\n",
        "* Children aged 4 to 10 pay \\$10.\n",
        "* Adults aged 11 to 17 pay \\$15.\n",
        "* Adults aged 18 to 59 pay \\$20.\n",
        "* Seniors aged 60 and above pay \\$12.\n",
        "\n",
        "The program should also consider whether the user has a membership.\n",
        "If a user has a membership, they receive a 20\\% discount on the ticket price.\n",
        "The program should display the appropriate ticket price based on the age and membership status entered by the user.\n",
        "Consider user only enter yes/no to declare its membership status.\n"
      ]
    },
    {
      "cell_type": "code",
      "execution_count": 3,
      "metadata": {
        "colab": {
          "base_uri": "https://localhost:8080/"
        },
        "id": "y3pQoUAJpEVO",
        "outputId": "e3bc4837-01e8-425c-fa7b-d491535816c2"
      },
      "outputs": [
        {
          "name": "stdout",
          "output_type": "stream",
          "text": [
            "Ticket price: \\$16.0\n"
          ]
        }
      ],
      "source": [
        "age = int(input(\"Enter your age: \"))\n",
        "has_membership = input(\"Do you have a membership? (yes/no): \").lower() == \"yes\"\n",
        "if age <= 3:\n",
        "    ticket_price = 0\n",
        "elif age <= 10:\n",
        "    ticket_price = 10\n",
        "elif age <= 17:\n",
        "    ticket_price = 15\n",
        "elif age <= 59:\n",
        "    ticket_price = 20\n",
        "else:\n",
        "    ticket_price = 12\n",
        "if has_membership:\n",
        "    ticket_price *= 0.8\n",
        "print(\"Ticket price: \\$\" + str(ticket_price))\n"
      ]
    },
    {
      "attachments": {},
      "cell_type": "markdown",
      "metadata": {
        "id": "3sGa7260p2jS"
      },
      "source": [
        "##Functions\n",
        "\n",
        "__Example: Factorial__:\n",
        "\n",
        "The factorial of a non-negative integer $n$ is the product of all positive integers less than or equal to $n$.\n",
        "The factorial of $0$ is defined as $1$.\n",
        "Let's write a recursive function called **factorial** that takes an integer as input and returns its factorial."
      ]
    },
    {
      "cell_type": "code",
      "execution_count": 5,
      "metadata": {
        "colab": {
          "base_uri": "https://localhost:8080/"
        },
        "id": "vi6nPg3lq-Sg",
        "outputId": "db02fe8b-93e4-442c-e30e-301e5e10ebef"
      },
      "outputs": [
        {
          "name": "stdout",
          "output_type": "stream",
          "text": [
            "Factorial of 2 is 2\n"
          ]
        }
      ],
      "source": [
        "def factorial(n):\n",
        "    if n == 0:\n",
        "        return 1\n",
        "    else:\n",
        "        return n * factorial(n - 1)\n",
        "\n",
        "# Test the factorial function\n",
        "num = int(input(\"Enter a number: \"))\n",
        "result = factorial(num)\n",
        "print(\"Factorial of\", num, \"is\", result)"
      ]
    },
    {
      "attachments": {},
      "cell_type": "markdown",
      "metadata": {
        "id": "LNL6RIigsWVR"
      },
      "source": [
        "__Exercise: Palindrome__\n",
        "Write a Python program that checks if a given string is a palindrome or not. A palindrome is a word, phrase, number, or other sequence of characters that reads the same forward and backward, ignoring spaces, punctuation, and letter casing, like bob.\n",
        "\n",
        "Your task is to write a function called __is_palindrome__ that takes a string as input and returns True if the string is a palindrome, and False otherwise.\n"
      ]
    },
    {
      "cell_type": "code",
      "execution_count": 6,
      "metadata": {
        "colab": {
          "base_uri": "https://localhost:8080/"
        },
        "id": "P_30U5N3sn3b",
        "outputId": "32737a9a-b860-4d45-f243-f11c376f9936"
      },
      "outputs": [
        {
          "name": "stdout",
          "output_type": "stream",
          "text": [
            "The string is a palindrome.\n"
          ]
        }
      ],
      "source": [
        "def is_palindrome(s):\n",
        "    s = s.lower().replace(\" \", \"\").strip()\n",
        "    if s == s[::-1]:\n",
        "        return True\n",
        "    else:\n",
        "        return False\n",
        "\n",
        "# Test the is_palindrome function\n",
        "string = input(\"Enter a string: \")\n",
        "if is_palindrome(string):\n",
        "    print(\"The string is a palindrome.\")\n",
        "else:\n",
        "    print(\"The string is not a palindrome.\")"
      ]
    },
    {
      "attachments": {},
      "cell_type": "markdown",
      "metadata": {
        "id": "-Cb7YZLp_LEp"
      },
      "source": [
        "\n",
        "##Class and objects\n",
        "\n",
        "Python supports object-oriented programming, allowing us to define classes and create objects based on them. Classes represent objects, and they consist of attributes (variables) and methods (functions).\n",
        "\n",
        "__Exercise:__ Consider a simple banking system. Write a Python program that models a Bank Account class.\n",
        "The BankAccount class should have the following functionalities:\n",
        "\n",
        "* Initialize the account with an account number and an initial balance.\n",
        "* Allow deposits and withdrawals.\n",
        "* Display the current balance.\n",
        "\n",
        "What are other features that we can add to the bank account class?   "
      ]
    },
    {
      "cell_type": "code",
      "execution_count": 7,
      "metadata": {
        "colab": {
          "base_uri": "https://localhost:8080/"
        },
        "id": "3LRQ9B_Q_5Jf",
        "outputId": "a608f3ed-65fc-4930-b14f-5a3e54f434df"
      },
      "outputs": [
        {
          "name": "stdout",
          "output_type": "stream",
          "text": [
            "Account Number: 12345\n",
            "Current Balance: $1000\n",
            "Deposited $500. Current balance: $1500\n",
            "Withdrew $200. Current balance: $1300\n",
            "Insufficient funds.\n"
          ]
        }
      ],
      "source": [
        "class BankAccount:\n",
        "    def __init__(self, account_number, initial_balance):\n",
        "        self.account_number = account_number\n",
        "        self.balance = initial_balance\n",
        "\n",
        "    def deposit(self, amount):\n",
        "        self.balance += amount\n",
        "        print(f\"Deposited ${amount}. Current balance: ${self.balance}\")\n",
        "\n",
        "    def withdraw(self, amount):\n",
        "        if amount <= self.balance:\n",
        "            self.balance -= amount\n",
        "            print(f\"Withdrew ${amount}. Current balance: ${self.balance}\")\n",
        "        else:\n",
        "            print(\"Insufficient funds.\")\n",
        "\n",
        "    def display_balance(self):\n",
        "        print(f\"Account Number: {self.account_number}\")\n",
        "        print(f\"Current Balance: ${self.balance}\")\n",
        "\n",
        "# Test the BankAccount class\n",
        "account = BankAccount(\"12345\", 1000)\n",
        "\n",
        "account.display_balance()\n",
        "account.deposit(500)\n",
        "account.withdraw(200)\n",
        "account.withdraw(1500)"
      ]
    },
    {
      "attachments": {},
      "cell_type": "markdown",
      "metadata": {
        "id": "K6MTKIvN6Ctp"
      },
      "source": [
        "__Exercise:__ Consider a library management system. Write a Python program that models the following entities: Library, Book, and Member.\n",
        "\n",
        "The Library class should have the following functionalities:\n",
        "\n",
        "* Keep track of a collection of Book objects.\n",
        "* Allow members to borrow books if they are available.\n",
        "* Keep a record of borrowed books and their due dates (members can borrow a book for 14 days).\n",
        "* Allow members to return books.\n",
        "\n",
        "The Book class should have the following attributes:\n",
        "\n",
        "* Title.\n",
        "* Author.\n",
        "* Availability status.\n",
        "\n",
        "The Member class should have the following attributes:\n",
        "\n",
        "* Full name.\n",
        "* Member ID.\n",
        "\n",
        "Your task is to design and implement these classes to represent the library management system (__Hint:__ you probably will need to import datetime\n",
        "package).\n"
      ]
    },
    {
      "cell_type": "code",
      "execution_count": 8,
      "metadata": {
        "colab": {
          "base_uri": "https://localhost:8080/"
        },
        "id": "dvlvQN4f8CPj",
        "outputId": "bec1180d-af1b-481d-f5a2-dd58a34ab297"
      },
      "outputs": [
        {
          "name": "stdout",
          "output_type": "stream",
          "text": [
            "Maryam Hashemi has borrowed 'The catcher in the rye'. Please return by 2023-08-29.\n",
            "Francisco Cruz has borrowed 'To Kill a Mockingbird'. Please return by 2023-08-29.\n",
            "Francisco Cruz has borrowed '1984'. Please return by 2023-08-29.\n",
            "Francisco Cruz has returned 'To Kill a Mockingbird'. Thank you!\n",
            "'To Kill a Mockingbird' is not borrowed by Maryam Hashemi.\n",
            "'1984' is currently unavailable.\n"
          ]
        }
      ],
      "source": [
        "\n",
        "from datetime import date, timedelta\n",
        "\n",
        "class Library:\n",
        "    def __init__(self):\n",
        "        self.books = []\n",
        "\n",
        "    def add_book(self, book):\n",
        "        self.books.append(book)\n",
        "\n",
        "    def borrow_book(self, book, member):\n",
        "        if book.available:\n",
        "            book.available = False\n",
        "            due_date = date.today() + timedelta(days=14)\n",
        "            print(f\"{member.name} has borrowed '{book.title}'. Please return by {due_date}.\")\n",
        "        else:\n",
        "            print(f\"'{book.title}' is currently unavailable.\")\n",
        "\n",
        "    def return_book(self, book, member):\n",
        "        if not book.available:\n",
        "            book.available = True\n",
        "            print(f\"{member.name} has returned '{book.title}'. Thank you!\")\n",
        "        else:\n",
        "            print(f\"'{book.title}' is not borrowed by {member.name}.\")\n",
        "\n",
        "class Book:\n",
        "    def __init__(self, title, author):\n",
        "        self.title = title\n",
        "        self.author = author\n",
        "        self.available = True\n",
        "\n",
        "class Member:\n",
        "    def __init__(self, name, member_id):\n",
        "        self.name = name\n",
        "        self.member_id = member_id\n",
        "\n",
        "# Test the Library management system\n",
        "library = Library()\n",
        "\n",
        "book1 = Book(\"The Great Gatsby\", \"F. Scott Fitzgerald\")\n",
        "book2 = Book(\"To Kill a Mockingbird\", \"Harper Lee\")\n",
        "book3 = Book(\"1984\", \"George Orwell\")\n",
        "book4 = Book(\"The catcher in the rye\", \"J. D. Salinger\")\n",
        "\n",
        "library.add_book(book1)\n",
        "library.add_book(book2)\n",
        "library.add_book(book3)\n",
        "library.add_book(book4)\n",
        "\n",
        "member1 = Member(\"Maryam Hashemi\", \"001\")\n",
        "member2 = Member(\"Francisco Cruz\", \"002\")\n",
        "\n",
        "library.borrow_book(book4, member1)\n",
        "library.borrow_book(book2, member2)\n",
        "library.borrow_book(book3, member2)\n",
        "\n",
        "library.return_book(book2, member2)\n",
        "library.return_book(book2, member1)\n",
        "\n",
        "library.borrow_book(book3,member1)"
      ]
    },
    {
      "attachments": {},
      "cell_type": "markdown",
      "metadata": {
        "id": "uqOI1NmyFGVW"
      },
      "source": [
        "#Numpy\n",
        "\n",
        "The first step is calling the library in your code. To ease coding, we usually abbreviate Numpy into np.\n",
        "\n",
        "__Example:__  Creating an array"
      ]
    },
    {
      "cell_type": "code",
      "execution_count": 10,
      "metadata": {
        "colab": {
          "base_uri": "https://localhost:8080/"
        },
        "id": "gT0O1JPMGA6V",
        "outputId": "cb7e9cad-3d5e-4d5b-c013-6d06c9830146"
      },
      "outputs": [
        {
          "name": "stdout",
          "output_type": "stream",
          "text": [
            "[1 2 3 4 5 6]\n"
          ]
        }
      ],
      "source": [
        "import numpy as np\n",
        "arr = np.array([1, 2, 3, 4, 5,6])\n",
        "print(arr)"
      ]
    },
    {
      "attachments": {},
      "cell_type": "markdown",
      "metadata": {
        "id": "F7TZ8aZZMNbj"
      },
      "source": [
        "__Example:__ Accessing array elements"
      ]
    },
    {
      "cell_type": "code",
      "execution_count": 11,
      "metadata": {
        "colab": {
          "base_uri": "https://localhost:8080/"
        },
        "id": "kLYIGCo__zuD",
        "outputId": "e0d85672-876e-4437-92c1-6bf2f0abac55"
      },
      "outputs": [
        {
          "name": "stdout",
          "output_type": "stream",
          "text": [
            "1\n",
            "3\n"
          ]
        }
      ],
      "source": [
        "print(arr[0])\n",
        "print(arr[2])"
      ]
    },
    {
      "attachments": {},
      "cell_type": "markdown",
      "metadata": {
        "id": "GB0jiMIMNBgA"
      },
      "source": [
        "__Example:__ Performing arithmetic operations"
      ]
    },
    {
      "cell_type": "code",
      "execution_count": 12,
      "metadata": {
        "colab": {
          "base_uri": "https://localhost:8080/"
        },
        "id": "S3avu_iMNECh",
        "outputId": "e9f66c9c-e1bd-4f9d-ee79-f7b11e6b07fd"
      },
      "outputs": [
        {
          "name": "stdout",
          "output_type": "stream",
          "text": [
            "[3 4 5 6 7 8]\n"
          ]
        }
      ],
      "source": [
        "arr2 = arr + 2\n",
        "print(arr2)"
      ]
    },
    {
      "attachments": {},
      "cell_type": "markdown",
      "metadata": {
        "id": "3Ly87LFhNKoH"
      },
      "source": [
        "__Example:__ Reshaping an array\n"
      ]
    },
    {
      "cell_type": "code",
      "execution_count": null,
      "metadata": {
        "colab": {
          "base_uri": "https://localhost:8080/"
        },
        "id": "lahEzbKqNQS7",
        "outputId": "01ac3303-3ac6-42a6-f964-8de2f2fa86ed"
      },
      "outputs": [
        {
          "name": "stdout",
          "output_type": "stream",
          "text": [
            "[[3 4]\n",
            " [5 6]\n",
            " [7 8]]\n"
          ]
        }
      ],
      "source": [
        "arr3 = np.reshape(arr2, (3, 2))\n",
        "print(arr3)"
      ]
    },
    {
      "attachments": {},
      "cell_type": "markdown",
      "metadata": {
        "id": "_k-ZO7ALQLsG"
      },
      "source": [
        "__Exercise:__ Write a Python program that generates a random matrix\n",
        "of size N×N, where N is a user-specified positive integer. The program should\n",
        "then find the sum of each row and each column of the matrix using the numpy\n",
        "library."
      ]
    },
    {
      "cell_type": "code",
      "execution_count": 13,
      "metadata": {
        "colab": {
          "base_uri": "https://localhost:8080/"
        },
        "id": "oUADcUIQQOpx",
        "outputId": "ec010ebb-4bab-4021-90ec-ce7f4151336f"
      },
      "outputs": [
        {
          "name": "stdout",
          "output_type": "stream",
          "text": [
            "Matrix:\n",
            "[[1 7]\n",
            " [4 9]]\n",
            "Sum of each row:\n",
            "[ 8 13]\n",
            "Sum of each column:\n",
            "[ 5 16]\n"
          ]
        }
      ],
      "source": [
        "import numpy as np\n",
        "\n",
        "def matrix_sum(N):\n",
        "    matrix = np.random.randint(1, 10, size=(N, N))\n",
        "    row_sums = np.sum(matrix, axis=1)\n",
        "    column_sums = np.sum(matrix, axis=0)\n",
        "    return matrix, row_sums, column_sums\n",
        "\n",
        "# Test the matrix_sum function\n",
        "size = int(input(\"Enter the size of the matrix: \"))\n",
        "matrix, row_sums, column_sums = matrix_sum(size)\n",
        "\n",
        "print(\"Matrix:\")\n",
        "print(matrix)\n",
        "print(\"Sum of each row:\")\n",
        "print(row_sums)\n",
        "print(\"Sum of each column:\")\n",
        "print(column_sums)"
      ]
    },
    {
      "attachments": {},
      "cell_type": "markdown",
      "metadata": {
        "id": "3Kru5ay3TBFf"
      },
      "source": [
        "#Matplotlib\n",
        "\n",
        "The first step is calling the library in your code. To ease coding, we usually abbreviate Matplotlib into plt.\n",
        "\n",
        "__Example:__ Line plot"
      ]
    },
    {
      "cell_type": "code",
      "execution_count": 14,
      "metadata": {
        "colab": {
          "base_uri": "https://localhost:8080/",
          "height": 472
        },
        "id": "ZRVrNNXbULEd",
        "outputId": "9b10bedc-bcad-4263-88be-c00e65bf4a7d"
      },
      "outputs": [
        {
          "data": {
            "image/png": "[encoded data removed]",
            "text/plain": [
              "<Figure size 640x480 with 1 Axes>"
            ]
          },
          "metadata": {},
          "output_type": "display_data"
        }
      ],
      "source": [
        "import matplotlib.pyplot as plt\n",
        "\n",
        "x = [1, 2, 3, 4, 5]\n",
        "y = [2, 4, 6, 8, 10]\n",
        "\n",
        "\n",
        "plt.plot(x, y)\n",
        "plt.xlabel('X-axis')\n",
        "plt.ylabel('Y-axis')\n",
        "plt.title('Line Plot')\n",
        "plt.show()"
      ]
    },
    {
      "attachments": {},
      "cell_type": "markdown",
      "metadata": {
        "id": "YIkuRTf1Ubdf"
      },
      "source": [
        "__Example:__ Bar plot"
      ]
    },
    {
      "cell_type": "code",
      "execution_count": 15,
      "metadata": {
        "colab": {
          "base_uri": "https://localhost:8080/",
          "height": 472
        },
        "id": "QB5zeFdbUfuz",
        "outputId": "087034f9-3f97-44f5-d361-60c463f2177b"
      },
      "outputs": [
        {
          "data": {
            "image/png": "[encoded data removed]",
            "text/plain": [
              "<Figure size 640x480 with 1 Axes>"
            ]
          },
          "metadata": {},
          "output_type": "display_data"
        }
      ],
      "source": [
        "x = ['A', 'B', 'C', 'D', 'E']\n",
        "y = [3, 7, 2, 9, 5]\n",
        "\n",
        "\n",
        "plt.bar(x, y)\n",
        "plt.xlabel('Categories')\n",
        "plt.ylabel('Values')\n",
        "plt.title('Bar Plot')\n",
        "plt.show()"
      ]
    },
    {
      "attachments": {},
      "cell_type": "markdown",
      "metadata": {
        "id": "nd_1CK6hXLVa"
      },
      "source": [
        "__Exercise:__ Consider a dataset containing the performance metrics (accuracy, precision, recall) of multiple machine learning models on a classification task is given to you. Write a Python program that performs the following tasks:\n",
        "\n",
        "* Calculate the mean and standard deviation of each metric across all models.\n",
        "* Visualize the mean performance of each metric using a bar chart, with the x-axis representing the metrics and the y-axis representing the mean values.\n",
        "* Plot error bars on the bar chart to represent the standard deviation of each metric.\n",
        "* Compare the performance of each model on a specific metric using a line plot, with the x-axis representing the models and the y-axis representing the metric value."
      ]
    },
    {
      "cell_type": "code",
      "execution_count": 16,
      "metadata": {
        "colab": {
          "base_uri": "https://localhost:8080/"
        },
        "id": "Jsd8AAzPWOFc",
        "outputId": "3d9513c1-5aac-480b-a580-13047a56ba24"
      },
      "outputs": [
        {
          "name": "stdout",
          "output_type": "stream",
          "text": [
            "   Accuracy  Precision    Recall\n",
            "0  0.186372   0.901007  0.896759\n",
            "1  0.396490   0.252517  0.217590\n",
            "2  0.295125   0.611422  0.375914\n",
            "3  0.362966   0.561787  0.894481\n",
            "4  0.560465   0.233368  0.046527\n",
            "5  0.499481   0.166914  0.433509\n",
            "6  0.679115   0.827946  0.639261\n",
            "7  0.273915   0.789782  0.292826\n",
            "8  0.194572   0.316485  0.644428\n",
            "9  0.241705   0.637585  0.726363 <class 'pandas.core.frame.DataFrame'>\n"
          ]
        }
      ],
      "source": [
        "import pandas as pd\n",
        "# Set the number of models and metrics\n",
        "num_models = 10\n",
        "num_metrics = 3\n",
        "\n",
        "# Generate random performance metrics for each model\n",
        "performance_metrics = np.random.rand(num_models, num_metrics)\n",
        "\n",
        "# Create a DataFrame from the performance metrics\n",
        "dataset = pd.DataFrame(performance_metrics, columns=['Accuracy', 'Precision', 'Recall'])\n",
        "print(dataset, type(dataset))\n",
        "\n",
        "# Save the DataFrame to a CSV file\n",
        "dataset.to_csv('performance_metrics.csv', index=False)"
      ]
    },
    {
      "cell_type": "code",
      "execution_count": 17,
      "metadata": {
        "colab": {
          "base_uri": "https://localhost:8080/",
          "height": 1000
        },
        "id": "J7WJm62kYKWD",
        "outputId": "9cc59c6f-27c4-4f35-aec9-c5d4e47fc196"
      },
      "outputs": [
        {
          "data": {
            "image/png": "[encoded data removed]",
            "text/plain": [
              "<Figure size 640x480 with 1 Axes>"
            ]
          },
          "metadata": {},
          "output_type": "display_data"
        },
        {
          "data": {
            "image/png": "[encoded data removed]",
            "text/plain": [
              "<Figure size 800x600 with 3 Axes>"
            ]
          },
          "metadata": {},
          "output_type": "display_data"
        }
      ],
      "source": [
        "\n",
        "# Calculate the mean and standard deviation of each metric across all models\n",
        "mean_metrics = dataset.mean()\n",
        "std_metrics = dataset.std()\n",
        "\n",
        "# Visualize the mean performance of each metric using a bar chart with error bars\n",
        "metrics = ['Accuracy', 'Precision', 'Recall']\n",
        "plt.bar(metrics, mean_metrics, yerr=std_metrics, capsize=5)\n",
        "plt.xlabel('Metrics')\n",
        "plt.ylabel('Mean Value')\n",
        "plt.title('Mean Performance of Metrics')\n",
        "\n",
        "# Add labels to the error bars\n",
        "for i, metric in enumerate(metrics):\n",
        "    plt.text(i, mean_metrics[i] + std_metrics[i] + 0.01, f\"std: {std_metrics[i]:.2f}\", ha='center')\n",
        "\n",
        "plt.show()\n",
        "\n",
        "# Create subplots for each metric\n",
        "fig, axes = plt.subplots(num_metrics, 1, figsize=(8, 6))\n",
        "# Iterate over metrics and plot performance for each model\n",
        "metrics = ['Accuracy', 'Precision', 'Recall']\n",
        "for i, metric in enumerate(metrics):\n",
        "    ax = axes[i]\n",
        "    ax.plot(dataset.index, dataset[metric])\n",
        "    ax.set_xlabel('Models')\n",
        "    ax.set_ylabel(metric)\n",
        "    ax.set_title(f'Performance of Models on {metric}')\n",
        "\n",
        "# Adjust spacing between subplots\n",
        "plt.tight_layout()\n",
        "\n",
        "# Display the subplots\n",
        "plt.show()\n",
        "\n"
      ]
    }
  ],
  "metadata": {
    "colab": {
      "include_colab_link": true,
      "provenance": []
    },
    "kernelspec": {
      "display_name": "Python 3",
      "name": "python3"
    },
    "language_info": {
      "codemirror_mode": {
        "name": "ipython",
        "version": 3
      },
      "file_extension": ".py",
      "mimetype": "text/x-python",
      "name": "python",
      "nbconvert_exporter": "python",
      "pygments_lexer": "ipython3",
      "version": "3.11.4"
    }
  },
  "nbformat": 4,
  "nbformat_minor": 0
}
