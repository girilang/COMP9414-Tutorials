{
  "cells": [
    {
      "attachments": {},
      "cell_type": "markdown",
      "metadata": {
        "colab_type": "text",
        "id": "view-in-github"
      },
      "source": [
        "<a href=\"https://colab.research.google.com/github/girilang/COMP9414-Tutorials/blob/main/Tutorial_Week_9_Belief_Networks.ipynb\" target=\"_parent\"><img src=\"https://colab.research.google.com/assets/colab-badge.svg\" alt=\"Open In Colab\"/></a>"
      ]
    },
    {
      "attachments": {},
      "cell_type": "markdown",
      "metadata": {
        "id": "S2uHiFBUAGlm"
      },
      "source": [
        "#Artificial Intelligence - COMP9414 23T2\n",
        "###Tutorial week 9 - Belief Networks\n",
        "\n",
        "@Author: __Francisco Cruz__\n",
        "\n"
      ]
    },
    {
      "attachments": {},
      "cell_type": "markdown",
      "metadata": {
        "id": "5vQYoNXyEtvZ"
      },
      "source": [
        "##Belief Networks\n",
        "\n",
        "A Bayesian or belief network is a probabilistic graphical model used to represent and analyze the dependencies between variables. In this network, nodes represent random variables, and directed edges between nodes indicate conditional dependencies. The strength of these dependencies is captured by conditional probability tables associated with each node.\n",
        "\n",
        "Bayes Nets are widely used in various fields, including artificial intelligence, machine learning, statistics, and expert systems. They enable reasoning and inference by calculating probabilities based on evidence and updating beliefs in a systematic way using Bayesian probability principles.\n"
      ]
    },
    {
      "attachments": {},
      "cell_type": "markdown",
      "metadata": {
        "id": "dWpl_vTazzzC"
      },
      "source": [
        "##Belief Networks in Python\n",
        "\n",
        "Consider the problem domain reviewed during the lecture when I go home [1], and I want to know if someone from my family is home before I go in. Let's say I know the following information:\n",
        "\n",
        "1. When my wife leaves the house, she often (but not always) turns on the outside light.\n",
        "2. When nobody is home, the dog is often left outside.\n",
        "3. If the dog has bowel troubles, it is also often left outside.\n",
        "4. If the dog is outside, I will probably hear it barking (though it might not bark, or I might hear a different dog barking and think it's my dog).\n",
        "\n",
        "Given the previous information, we can consider the following five Boolean random variables:\n",
        "\n",
        "1. family-out (fo): everyone is out of the house.\n",
        "2. light-on (lo): the light is on.\n",
        "3. dog-out (do): the dog is outside.\n",
        "4. bowel-problem (bp): the dog has bowel troubles.\n",
        "5. hear-bark (hb): I can hear the dog barking.\n",
        "\n",
        "From this information, the following direct causal influences are appropriate:\n",
        "\n",
        "1. hb is only directly influenced by do. Hence hb is conditionally independent of lo, fo and bp given do.\n",
        "2. do is only directly influenced by fo and bp. Hence do is conditionally independent of lo given fo and bp.\n",
        "3. lo is only directly influenced by fo. Hence lo is conditionally independent of do, hb and bp given fo.\n",
        "4. fo and bp are independent.\n",
        "\n",
        "Therefore, a belief network representing these direct causal relationships (though these causal connections are not absolute, i.e., they are not implications) can be built.\n",
        "The network includes the prior probability of the random variable for root nodes fo and bp as well as the conditional probabilities of the node's variable given all possible combinations of its immediate parent nodes need to be determined for non-root nodes.\n",
        "\n",
        "[1] Charniak, E. (1991). Bayesian networks without tears. AI magazine, 12(4), 50-50."
      ]
    },
    {
      "attachments": {},
      "cell_type": "markdown",
      "metadata": {
        "id": "C5QEwC7h1E_Z"
      },
      "source": [
        "__Exercise__\n",
        "First, we need to install pomegranate library."
      ]
    },
    {
      "cell_type": "code",
      "execution_count": 1,
      "metadata": {
        "colab": {
          "base_uri": "https://localhost:8080/"
        },
        "id": "mOvXifJGLgW9",
        "outputId": "7ebeaf6f-c386-4514-f73a-7cb728e0fa2f"
      },
      "outputs": [],
      "source": [
        "#!pip install pomegranate==0.13.0\n",
        "import pomegranate as pg"
      ]
    },
    {
      "attachments": {},
      "cell_type": "markdown",
      "metadata": {
        "id": "QuROg8EU1blD"
      },
      "source": [
        "__Section 3.1.1.__ Using *pomegranate* create the root nodes fo and bp and assign them the respective prior probability."
      ]
    },
    {
      "cell_type": "code",
      "execution_count": null,
      "metadata": {
        "id": "zVXmUTBxLp-3"
      },
      "outputs": [],
      "source": [
        "#section 3.1.1\n",
        "fo = pg.DiscreteDistribution({'family out': 0.15, 'family home': 0.85})\n",
        "bp = pg.DiscreteDistribution({'bowel problem': 0.01, 'no bowel problem': 0.99})"
      ]
    },
    {
      "attachments": {},
      "cell_type": "markdown",
      "metadata": {
        "id": "8-v2Zsu7125c"
      },
      "source": [
        "__Section 3.1.2.__ Create the non-root nodes lo, do, and hb. For lo and hb consider four combinations taking into account one immediate parent. For do consider eight combinations as this node has two immediate parents."
      ]
    },
    {
      "cell_type": "code",
      "execution_count": null,
      "metadata": {
        "id": "WiHdMrKk10t-"
      },
      "outputs": [],
      "source": [
        "#section 3.1.2\n",
        "lo = pg.ConditionalProbabilityTable(\n",
        "        [[ 'family home', 'light off', 0.95 ],\n",
        "         [ 'family home', 'light on', 0.05 ],\n",
        "         [ 'family out', 'light off', 0.4 ],\n",
        "         [ 'family out', 'light on', 0.6 ]],[fo])\n",
        "\n",
        "do = pg.ConditionalProbabilityTable(\n",
        "        [[ 'family home', 'no bowel problem', 'dog out', 0.3 ],\n",
        "         [ 'family home', 'bowel problem', 'dog out', 0.97 ],\n",
        "         [ 'family out', 'no bowel problem', 'dog out', 0.9 ],\n",
        "         [ 'family out', 'bowel problem', 'dog out', 0.99 ],\n",
        "         [ 'family home', 'no bowel problem', 'dog in', 0.7 ],\n",
        "         [ 'family home', 'bowel problem', 'dog in', 0.03 ],\n",
        "         [ 'family out', 'no bowel problem', 'dog in', 0.1 ],\n",
        "         [ 'family out', 'bowel problem', 'dog in', 0.01 ]],[fo,bp])\n",
        "\n",
        "hb = pg.ConditionalProbabilityTable(\n",
        "        [[ 'dog in', 'no hear bark', 0.99 ],\n",
        "         [ 'dog in', 'hear bark', 0.01 ],\n",
        "         [ 'dog out', 'no hear bark', 0.3 ],\n",
        "         [ 'dog out', 'hear bark', 0.7 ]],[do])"
      ]
    },
    {
      "attachments": {},
      "cell_type": "markdown",
      "metadata": {
        "id": "pqHj4ef32AOG"
      },
      "source": [
        "__Section 3.1.3.__ Create the Bayesian network model."
      ]
    },
    {
      "cell_type": "code",
      "execution_count": null,
      "metadata": {
        "id": "XlT3Alkn2GAI"
      },
      "outputs": [],
      "source": [
        "#section 3.1.3\n",
        "model = pg.BayesianNetwork(\"MyBN\")"
      ]
    },
    {
      "attachments": {},
      "cell_type": "markdown",
      "metadata": {
        "id": "5DvePjJJ2L3L"
      },
      "source": [
        "__Section 3.1.4.__ Using the previous nodes, create five states and add them to the Bayesian network model."
      ]
    },
    {
      "cell_type": "code",
      "execution_count": null,
      "metadata": {
        "id": "-BCo0Kc82Q6a"
      },
      "outputs": [],
      "source": [
        "#section 3.1.4\n",
        "FO = pg.State(fo, name=\"FO\")\n",
        "BP = pg.State(bp, name=\"BP\")\n",
        "LO = pg.State(lo, name=\"LO\")\n",
        "DO = pg.State(do, name=\"DO\")\n",
        "HB = pg.State(hb, name=\"HB\")\n",
        "\n",
        "model.add_states(FO, BP, LO, DO, HB)"
      ]
    },
    {
      "attachments": {},
      "cell_type": "markdown",
      "metadata": {
        "id": "6DO4guxi2TmX"
      },
      "source": [
        "__Section 3.1.5.__ Add to the model the four edges for the belief network."
      ]
    },
    {
      "cell_type": "code",
      "execution_count": null,
      "metadata": {
        "id": "iUtEzoC02pIX"
      },
      "outputs": [],
      "source": [
        "#section 3.1.5\n",
        "model.add_edge(FO, LO)\n",
        "model.add_edge(FO, DO)\n",
        "model.add_edge(BP, DO)\n",
        "model.add_edge(DO, HB)"
      ]
    },
    {
      "attachments": {},
      "cell_type": "markdown",
      "metadata": {
        "id": "77IzvmvG20vN"
      },
      "source": [
        "__Section 3.1.6.__ Finalise the model to use it for joint and conditional probabilities."
      ]
    },
    {
      "cell_type": "code",
      "execution_count": null,
      "metadata": {
        "id": "D0YZLGLf254L"
      },
      "outputs": [],
      "source": [
        "#section 3.1.6\n",
        "model.bake()"
      ]
    },
    {
      "attachments": {},
      "cell_type": "markdown",
      "metadata": {
        "id": "UAKDzemR28ga"
      },
      "source": [
        "__Section 3.1.7.__ Test the Bayesian network model for different situations.\n",
        "\n",
        "* Test 1: Compute the joint probability P(\\~FO,BP,~LO,DO,HB).\n",
        "* Test 2: Compute a causal inference (top-down) using the conditional probability P(DO|BP).\n",
        "* Test 3: Compute a diagnostic inference (bottom-up) using the conditional probability P(\\~BP|\\~DO)."
      ]
    },
    {
      "cell_type": "code",
      "execution_count": null,
      "metadata": {
        "colab": {
          "base_uri": "https://localhost:8080/"
        },
        "id": "MOJgT3uf3Pnk",
        "outputId": "014279e6-6a60-4580-dfa5-85a3658b50df"
      },
      "outputs": [
        {
          "name": "stdout",
          "output_type": "stream",
          "text": [
            "0.0054829250000000005\n",
            "0.9729999999999995\n",
            "0.9995531059138985\n"
          ]
        }
      ],
      "source": [
        "#section 3.1.7\n",
        "#P(~FO,BP,~LO,DO,HB)\n",
        "print(model.probability([[\"family home\", \"bowel problem\", \"light off\", \"dog out\", \"hear bark\"]]))\n",
        "\n",
        "#P(DO|BP)\n",
        "print(model.predict_proba([{'BP': 'bowel problem'}])[0][3].parameters[0]['dog out'])\n",
        "\n",
        "#P(~BP|~DO)\n",
        "print(model.predict_proba([{'DO': 'dog in'}])[0][1].parameters[0]['no bowel problem'])"
      ]
    }
  ],
  "metadata": {
    "colab": {
      "include_colab_link": true,
      "provenance": []
    },
    "kernelspec": {
      "display_name": "Python 3",
      "name": "python3"
    },
    "language_info": {
      "codemirror_mode": {
        "name": "ipython",
        "version": 3
      },
      "file_extension": ".py",
      "mimetype": "text/x-python",
      "name": "python",
      "nbconvert_exporter": "python",
      "pygments_lexer": "ipython3",
      "version": "3.8.17"
    }
  },
  "nbformat": 4,
  "nbformat_minor": 0
}
